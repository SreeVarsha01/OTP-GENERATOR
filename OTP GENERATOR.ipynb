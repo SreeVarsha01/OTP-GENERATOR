{
 "cells": [
  {
   "cell_type": "code",
   "execution_count": null,
   "id": "22b7573f",
   "metadata": {},
   "outputs": [],
   "source": [
    "from tkinter import *\n",
    "import random,string\n",
    "import pyperclip\n",
    "from numpy import random\n",
    "root=Tk()\n",
    "root.title(\"OTP GENERATOR\")\n",
    "root.geometry(\"350x350\")\n",
    "root.resizable(0,0)\n",
    "heading=Label(root,text=\"OTP GENERATOR\",font=\"arial 15 bold\").pack()\n",
    "\n",
    "otp_label=Label(root,text=\"OTP LENGTH\",font=\"arial 10 bold\").pack()\n",
    "otp_len=IntVar()\n",
    "length=Spinbox(root,from_=4,to_=8, textvariable=otp_len,width=15).pack()\n",
    "\n",
    "otp_gen=IntVar()\n",
    "def OTP_Generator():\n",
    "    OTP=\"\"\n",
    "    for x in range(0,4):\n",
    "        OTP+=str(random.randint(0,10))\n",
    "    for y in range(otp_len.get()-4):\n",
    "        OTP=OTP+str(random.randint(0,10)) \n",
    "    otp_gen.set(OTP)\n",
    "\n",
    "Button(root,text=\"OTP GENERATOR\",command=OTP_Generator).pack(pady=10)\n",
    "Entry(root,textvariable=otp_gen).pack()\n",
    "\n",
    "def Copy_password():\n",
    "    pyperclip.copy(otp_gen.get())\n",
    "Button(root,text=\"COPY CLIPBOARD\",command=Copy_password).pack(pady=10)\n",
    "\n",
    "root.mainloop()"
   ]
  },
  {
   "cell_type": "code",
   "execution_count": null,
   "id": "a3795d73",
   "metadata": {},
   "outputs": [],
   "source": [
    "a=\"97379337\"\n",
    "len(a)"
   ]
  },
  {
   "cell_type": "code",
   "execution_count": null,
   "id": "58efab27",
   "metadata": {},
   "outputs": [],
   "source": []
  }
 ],
 "metadata": {
  "kernelspec": {
   "display_name": "Python 3 (ipykernel)",
   "language": "python",
   "name": "python3"
  },
  "language_info": {
   "codemirror_mode": {
    "name": "ipython",
    "version": 3
   },
   "file_extension": ".py",
   "mimetype": "text/x-python",
   "name": "python",
   "nbconvert_exporter": "python",
   "pygments_lexer": "ipython3",
   "version": "3.9.12"
  }
 },
 "nbformat": 4,
 "nbformat_minor": 5
}
